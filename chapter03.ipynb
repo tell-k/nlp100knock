{
 "cells": [
  {
   "cell_type": "markdown",
   "metadata": {},
   "source": [
    "# 第3章: 正規表現"
   ]
  },
  {
   "cell_type": "markdown",
   "metadata": {},
   "source": [
    "Wikipediaの記事を以下のフォーマットで書き出したファイル[jawiki-country.json.gz](http://www.cl.ecei.tohoku.ac.jp/nlp100/data/jawiki-country.json.gz)がある．\n",
    "\n",
    "- 行に1記事の情報がJSON形式で格納される\n",
    "- 各行には記事名が\"title\"キーに，記事本文が\"text\"キーの辞書オブジェクトに格納され，そのオブジェクトがJSON形式で書き出される\n",
    "- ファイル全体はgzipで圧縮される\n",
    "\n",
    "以下の処理を行うプログラムを作成せよ．"
   ]
  },
  {
   "cell_type": "markdown",
   "metadata": {},
   "source": [
    "## 20. JSONデータの読み込み\n",
    "Wikipedia記事のJSONファイルを読み込み，「イギリス」に関する記事本文を表示せよ．問題21-29では，ここで抽出した記事本文に対して実行せよ．"
   ]
  },
  {
   "cell_type": "code",
   "execution_count": 73,
   "metadata": {
    "collapsed": false
   },
   "outputs": [
    {
     "data": {
      "text/plain": [
       "14222681"
      ]
     },
     "execution_count": 73,
     "metadata": {},
     "output_type": "execute_result"
    }
   ],
   "source": [
    "import json\n",
    "pages = [json.loads(l) for l in list(open('data/jawiki-country.json'))]\n",
    "open('output/related_uk.json', 'w').write(json.dumps([p for p in pages if 'イギリス' in p['text']]))"
   ]
  },
  {
   "cell_type": "markdown",
   "metadata": {},
   "source": [
    "## 21. カテゴリ名を含む行を抽出\n",
    "記事中でカテゴリ名を宣言している行を抽出せよ．"
   ]
  },
  {
   "cell_type": "code",
   "execution_count": 74,
   "metadata": {
    "collapsed": false
   },
   "outputs": [
    {
     "name": "stdout",
     "output_type": "stream",
     "text": [
      "625\n",
      "['[[Category:エジプト|*]]', '[[Category:フランコフォニー]]', '[[Category:共和国]]']\n"
     ]
    }
   ],
   "source": [
    "import json\n",
    "\n",
    "result = []\n",
    "for p in json.load(open('output/related_uk.json')):\n",
    "    for line in p['text'].split('\\n'):\n",
    "        m = re.search('\\[\\[(Category|カテゴリ):.+\\]\\]', line)\n",
    "        if m:\n",
    "            result.append(line.strip())\n",
    "\n",
    "print(len(result))\n",
    "print(result[:3])"
   ]
  },
  {
   "cell_type": "markdown",
   "metadata": {},
   "source": [
    "## 22. カテゴリ名の抽出\n",
    "記事のカテゴリ名を（行単位ではなく名前で）抽出せよ．"
   ]
  },
  {
   "cell_type": "code",
   "execution_count": 75,
   "metadata": {
    "collapsed": false
   },
   "outputs": [
    {
     "name": "stdout",
     "output_type": "stream",
     "text": [
      "215\n",
      "['キューバ', '保護国', 'カタール']\n"
     ]
    }
   ],
   "source": [
    "import json\n",
    "\n",
    "result = set()\n",
    "for p in json.load(open('output/related_uk.json')):\n",
    "    for m in re.finditer('\\[\\[(Category|カテゴリ):(.+)\\]\\]', p['text']):\n",
    "        result |= set([m.groups()[1].split('|')[0]])\n",
    "\n",
    "print(len(result))\n",
    "print(list(result)[:3])"
   ]
  },
  {
   "cell_type": "markdown",
   "metadata": {},
   "source": [
    "## 23. セクション構造\n",
    "記事中に含まれるセクション名とそのレベル（例えば\"== セクション名 ==\"なら1）を表示せよ．"
   ]
  },
  {
   "cell_type": "code",
   "execution_count": 76,
   "metadata": {
    "collapsed": false
   },
   "outputs": [
    {
     "name": "stdout",
     "output_type": "stream",
     "text": [
      "5193\n"
     ]
    },
    {
     "data": {
      "text/plain": [
       "[('国号', 2), ('歴史', 2), ('古代エジプト', 3)]"
      ]
     },
     "execution_count": 76,
     "metadata": {},
     "output_type": "execute_result"
    }
   ],
   "source": [
    "result = []\n",
    "for p in json.load(open('output/related_uk.json')):\n",
    "    for m in re.finditer('(==+) (.+) ==+', p['text']):\n",
    "        g = m.groups()\n",
    "        result.append((g[1], len(g[0])))\n",
    "\n",
    "print(len(result))\n",
    "result[:3]"
   ]
  },
  {
   "cell_type": "markdown",
   "metadata": {},
   "source": [
    "## 24. ファイル参照の抽出\n",
    "記事から参照されているメディアファイルをすべて抜き出せ．"
   ]
  },
  {
   "cell_type": "code",
   "execution_count": 77,
   "metadata": {
    "collapsed": false
   },
   "outputs": [
    {
     "name": "stdout",
     "output_type": "stream",
     "text": [
      "2581\n"
     ]
    },
    {
     "data": {
      "text/plain": [
       "['Coat_of_arms_of_Egypt.svg',\n",
       " 'All Gizah Pyramids.jpg',\n",
       " 'Egyptiska hieroglyfer, Nordisk familjebok.png']"
      ]
     },
     "execution_count": 77,
     "metadata": {},
     "output_type": "execute_result"
    }
   ],
   "source": [
    "result = []                                                                                         \n",
    "for p in json.load(open('output/related_uk.json')):                                                 \n",
    "    for m in re.finditer('File:(.*?)\\||ファイル:(.*?)\\|', p['text']):                               \n",
    "        result += [f for f in m.groups() if f]                                                      \n",
    "                                                                                                    \n",
    "print(len(result))                                                                                  \n",
    "result[:3]"
   ]
  },
  {
   "cell_type": "markdown",
   "metadata": {},
   "source": [
    "## 25. テンプレートの抽出\n",
    "記事中に含まれる「基礎情報」テンプレートのフィールド名と値を抽出し，辞書オブジェクトとして格納せよ．"
   ]
  },
  {
   "cell_type": "code",
   "execution_count": 78,
   "metadata": {
    "collapsed": false
   },
   "outputs": [
    {
     "data": {
      "text/plain": [
       "{'GDP/人': '38,053<ref name=\"imf-statistics-gdp\"/>',\n",
       " 'GDPMER追記': '',\n",
       " 'GDP値': '4兆8350億<ref name=\"imf-statistics-gdp\"/>',\n",
       " 'GDP値MER': '4兆8460億<ref name=\"imf-statistics-gdp\"/>',\n",
       " 'GDP値元': '名目478兆3,680億<ref name=\"imf-statistics-gdp\">[http://www.imf.org/external/pubs/ft/weo/2012/02/weodata/weorept.aspx?pr.x=73&pr.y=8&sy=2010&ey=2012&scsm=1&ssd=1&sort=country&ds=.&br=1&c=158&s=NGDP%2CNGDPD%2CNGDPDPC%2CPPPGDP%2CPPPPC&grp=0&a= IMF>Data and Statistics>World Economic Outlook Databases>By Countrise>Japan]</ref>',\n",
       " 'GDP元追記': '',\n",
       " 'GDP統計年': '2014',\n",
       " 'GDP統計年MER': '2014',\n",
       " 'GDP統計年元': '2013',\n",
       " 'GDP追記': '',\n",
       " 'GDP順位': '4',\n",
       " 'GDP順位MER': '3',\n",
       " 'ISO 3166-1': 'JP / JPN',\n",
       " 'ISO 3166-1追記': '',\n",
       " 'ccTLD': '[[.jp]]',\n",
       " 'ccTLD追記': '',\n",
       " '人口値': '1億2653万<ref>[http://esa.un.org/unpd/wpp/Excel-Data/population.htm United Nations Department of Economic and Social Affairs>Population Division>Data>Population>Total Population]</ref>',\n",
       " '人口大きさ': '1 E8',\n",
       " '人口密度値': '337',\n",
       " '人口統計年': '2012',\n",
       " '人口追記': '',\n",
       " '人口順位': '10',\n",
       " '位置画像': 'Japan (orthographic projection).svg',\n",
       " '元首等氏名': '[[明仁]]<br/>（125代目:[[今上天皇]]）',\n",
       " '元首等肩書': '[[天皇]]',\n",
       " '公式国名': '',\n",
       " '公用語': '[[日本語]]（事実上<ref>日本の公用語を日本語と定める法令は存在しない。詳しくは[[日本#言語]]および[[日本語#分布]]を参照。</ref>）',\n",
       " '国旗画像': 'Flag of Japan.svg',\n",
       " '国歌': '[[君が代]][[File:Kimi ga Yo instrumental.ogg]]',\n",
       " '国歌追記': '',\n",
       " '国章リンク': '（[[日本の国章|国章（慣例上）]]）',\n",
       " '国章画像': '[[File:Imperial Seal of Japan.svg|85px|十六八重表菊]]',\n",
       " '国際電話番号': '81',\n",
       " '国際電話番号追記': '',\n",
       " '夏時間': 'なし',\n",
       " '建国年月日': '諸説あり（[[日本神話]]による初代天皇即位の日を[[グレゴリオ暦]]に換算すると[[紀元前660年|前660年]][[2月11日]]<ref>[[#建国をめぐる議論]]の節も参照。</ref>）。',\n",
       " '建国形態': '[[建国]]',\n",
       " '日本語国名': '日本国',\n",
       " '時間帯': '+9',\n",
       " '時間帯追記': '',\n",
       " '最大都市': '[[東京都区部]]（23区を一つの自治体と見なす場合。<ref>東京都にある[[特別区]]の集合体は地方自治法による[[地方自治法|地方公共団体]]ではない。</ref>）',\n",
       " '標語': 'なし',\n",
       " '標語追記': '',\n",
       " '水面積率': '0.8%',\n",
       " '注記': '<references/>',\n",
       " '略名': '日本',\n",
       " '通貨': '[[円 (通貨)|円]]',\n",
       " '通貨コード': 'JPY',\n",
       " '通貨追記': '',\n",
       " '面積値': '377,961.73',\n",
       " '面積大きさ': '1 E11',\n",
       " '面積追記': '',\n",
       " '面積順位': '62',\n",
       " '首相等氏名': '[[安倍晋三]]',\n",
       " '首相等肩書': '[[内閣総理大臣]]',\n",
       " '首都': '[[東京都]]（事実上<ref>日本の首都を東京と定める法令は現存しない。詳しくは[[日本の首都]]を参照。</ref>）'}"
      ]
     },
     "execution_count": 78,
     "metadata": {},
     "output_type": "execute_result"
    }
   ],
   "source": [
    "from collections import defaultdict\n",
    "\n",
    "result = defaultdict(dict)\n",
    "for p in json.load(open('output/related_uk.json')):\n",
    "    for m in re.finditer('{{基礎情報(.*?)}}\\n', p['text'], re.MULTILINE|re.DOTALL):\n",
    "        for m2 in re.finditer('([^|\\n]*?)\\s*=(.*?)\\n', m.groups()[0]):\n",
    "            g = m2.groups()\n",
    "            result[p['title']].update({g[0].strip(): g[1].strip()})\n",
    "            \n",
    "result['日本']"
   ]
  },
  {
   "cell_type": "markdown",
   "metadata": {},
   "source": [
    "## 26. 強調マークアップの除去\n",
    "25の処理時に，テンプレートの値からMediaWikiの強調マークアップ（弱い強調，強調，強い強調のすべて）を除去してテキストに変換せよ（参考: [マークアップ早見表](https://ja.wikipedia.org/wiki/Help:%E6%97%A9%E8%A6%8B%E8%A1%A8)）．"
   ]
  },
  {
   "cell_type": "code",
   "execution_count": 79,
   "metadata": {
    "collapsed": false
   },
   "outputs": [
    {
     "data": {
      "text/plain": [
       "{'GDP/人': '38,053<ref name=\"imf-statistics-gdp\"/>',\n",
       " 'GDPMER追記': '',\n",
       " 'GDP値': '4兆8350億<ref name=\"imf-statistics-gdp\"/>',\n",
       " 'GDP値MER': '4兆8460億<ref name=\"imf-statistics-gdp\"/>',\n",
       " 'GDP値元': '名目478兆3,680億<ref name=\"imf-statistics-gdp\">[http://www.imf.org/external/pubs/ft/weo/2012/02/weodata/weorept.aspx?pr.x=73&pr.y=8&sy=2010&ey=2012&scsm=1&ssd=1&sort=country&ds=.&br=1&c=158&s=NGDP%2CNGDPD%2CNGDPDPC%2CPPPGDP%2CPPPPC&grp=0&a= IMF>Data and Statistics>World Economic Outlook Databases>By Countrise>Japan]</ref>',\n",
       " 'GDP元追記': '',\n",
       " 'GDP統計年': '2014',\n",
       " 'GDP統計年MER': '2014',\n",
       " 'GDP統計年元': '2013',\n",
       " 'GDP追記': '',\n",
       " 'GDP順位': '4',\n",
       " 'GDP順位MER': '3',\n",
       " 'ISO 3166-1': 'JP / JPN',\n",
       " 'ISO 3166-1追記': '',\n",
       " 'ccTLD': '[[.jp]]',\n",
       " 'ccTLD追記': '',\n",
       " '人口値': '1億2653万<ref>[http://esa.un.org/unpd/wpp/Excel-Data/population.htm United Nations Department of Economic and Social Affairs>Population Division>Data>Population>Total Population]</ref>',\n",
       " '人口大きさ': '1 E8',\n",
       " '人口密度値': '337',\n",
       " '人口統計年': '2012',\n",
       " '人口追記': '',\n",
       " '人口順位': '10',\n",
       " '位置画像': 'Japan (orthographic projection).svg',\n",
       " '元首等氏名': '[[明仁]]<br/>（125代目:[[今上天皇]]）',\n",
       " '元首等肩書': '[[天皇]]',\n",
       " '公式国名': '',\n",
       " '公用語': '[[日本語]]（事実上<ref>日本の公用語を日本語と定める法令は存在しない。詳しくは[[日本#言語]]および[[日本語#分布]]を参照。</ref>）',\n",
       " '国旗画像': 'Flag of Japan.svg',\n",
       " '国歌': '[[君が代]][[File:Kimi ga Yo instrumental.ogg]]',\n",
       " '国歌追記': '',\n",
       " '国章リンク': '（[[日本の国章|国章（慣例上）]]）',\n",
       " '国章画像': '[[File:Imperial Seal of Japan.svg|85px|十六八重表菊]]',\n",
       " '国際電話番号': '81',\n",
       " '国際電話番号追記': '',\n",
       " '夏時間': 'なし',\n",
       " '建国年月日': '諸説あり（[[日本神話]]による初代天皇即位の日を[[グレゴリオ暦]]に換算すると[[紀元前660年|前660年]][[2月11日]]<ref>[[#建国をめぐる議論]]の節も参照。</ref>）。',\n",
       " '建国形態': '[[建国]]',\n",
       " '日本語国名': '日本国',\n",
       " '時間帯': '+9',\n",
       " '時間帯追記': '',\n",
       " '最大都市': '[[東京都区部]]（23区を一つの自治体と見なす場合。<ref>東京都にある[[特別区]]の集合体は地方自治法による[[地方自治法|地方公共団体]]ではない。</ref>）',\n",
       " '標語': 'なし',\n",
       " '標語追記': '',\n",
       " '水面積率': '0.8%',\n",
       " '注記': '<references/>',\n",
       " '略名': '日本',\n",
       " '通貨': '[[円 (通貨)|円]]',\n",
       " '通貨コード': 'JPY',\n",
       " '通貨追記': '',\n",
       " '面積値': '377,961.73',\n",
       " '面積大きさ': '1 E11',\n",
       " '面積追記': '',\n",
       " '面積順位': '62',\n",
       " '首相等氏名': '[[安倍晋三]]',\n",
       " '首相等肩書': '[[内閣総理大臣]]',\n",
       " '首都': '[[東京都]]（事実上<ref>日本の首都を東京と定める法令は現存しない。詳しくは[[日本の首都]]を参照。</ref>）'}"
      ]
     },
     "execution_count": 79,
     "metadata": {},
     "output_type": "execute_result"
    }
   ],
   "source": [
    "from collections import defaultdict\n",
    "\n",
    "result = defaultdict(dict)\n",
    "for p in json.load(open('output/related_uk.json')):\n",
    "    for m in re.finditer('{{基礎情報(.*?)}}\\n', p['text'], re.MULTILINE|re.DOTALL):\n",
    "        for m2 in re.finditer('([^|\\n]*?)\\s*=(.*?)\\n', m.groups()[0]):\n",
    "            g = m2.groups()\n",
    "            value = re.sub(\"\\|$\", \"\", g[1].strip())\n",
    "            value = re.sub(\"'''''(.+)'''''\", \"\\g<1>\", value)\n",
    "            value = re.sub(\"'''(.+)'''\", \"\\g<1>\",  value)\n",
    "            value = re.sub(\"''(.+)''\", \"\\g<1>\",  value)\n",
    "            result[p['title']].update({g[0].strip(): value})\n",
    "            \n",
    "result['日本']"
   ]
  },
  {
   "cell_type": "markdown",
   "metadata": {},
   "source": [
    "## 27. 内部リンクの除去\n",
    "26の処理に加えて，テンプレートの値からMediaWikiの内部リンクマークアップを除去し，テキストに変換せよ（参考: [マークアップ早見表](https://ja.wikipedia.org/wiki/Help:%E6%97%A9%E8%A6%8B%E8%A1%A8)）．"
   ]
  },
  {
   "cell_type": "code",
   "execution_count": 80,
   "metadata": {
    "collapsed": false
   },
   "outputs": [
    {
     "data": {
      "text/plain": [
       "{'GDP/人': '38,053<ref name=\"imf-statistics-gdp\"/>',\n",
       " 'GDPMER追記': '',\n",
       " 'GDP値': '4兆8350億<ref name=\"imf-statistics-gdp\"/>',\n",
       " 'GDP値MER': '4兆8460億<ref name=\"imf-statistics-gdp\"/>',\n",
       " 'GDP値元': '名目478兆3,680億<ref name=\"imf-statistics-gdp\">[http://www.imf.org/external/pubs/ft/weo/2012/02/weodata/weorept.aspx?pr.x=73&pr.y=8&sy=2010&ey=2012&scsm=1&ssd=1&sort=country&ds=.&br=1&c=158&s=NGDP%2CNGDPD%2CNGDPDPC%2CPPPGDP%2CPPPPC&grp=0&a= IMF>Data and Statistics>World Economic Outlook Databases>By Countrise>Japan]</ref>',\n",
       " 'GDP元追記': '',\n",
       " 'GDP統計年': '2014',\n",
       " 'GDP統計年MER': '2014',\n",
       " 'GDP統計年元': '2013',\n",
       " 'GDP追記': '',\n",
       " 'GDP順位': '4',\n",
       " 'GDP順位MER': '3',\n",
       " 'ISO 3166-1': 'JP / JPN',\n",
       " 'ISO 3166-1追記': '',\n",
       " 'ccTLD': '.jp',\n",
       " 'ccTLD追記': '',\n",
       " '人口値': '1億2653万<ref>[http://esa.un.org/unpd/wpp/Excel-Data/population.htm United Nations Department of Economic and Social Affairs>Population Division>Data>Population>Total Population]</ref>',\n",
       " '人口大きさ': '1 E8',\n",
       " '人口密度値': '337',\n",
       " '人口統計年': '2012',\n",
       " '人口追記': '',\n",
       " '人口順位': '10',\n",
       " '位置画像': 'Japan (orthographic projection).svg',\n",
       " '元首等氏名': '明仁<br/>（125代目:今上天皇）',\n",
       " '元首等肩書': '天皇',\n",
       " '公式国名': '',\n",
       " '公用語': '日本語（事実上<ref>日本の公用語を日本語と定める法令は存在しない。詳しくは日本#言語および日本語#分布を参照。</ref>）',\n",
       " '国旗画像': 'Flag of Japan.svg',\n",
       " '国歌': '君が代File:Kimi ga Yo instrumental.ogg',\n",
       " '国歌追記': '',\n",
       " '国章リンク': '（国章（慣例上））',\n",
       " '国章画像': '十六八重表菊',\n",
       " '国際電話番号': '81',\n",
       " '国際電話番号追記': '',\n",
       " '夏時間': 'なし',\n",
       " '建国年月日': '諸説あり（日本神話による初代天皇即位の日をグレゴリオ暦に換算すると前660年2月11日<ref>#建国をめぐる議論の節も参照。</ref>）。',\n",
       " '建国形態': '建国',\n",
       " '日本語国名': '日本国',\n",
       " '時間帯': '+9',\n",
       " '時間帯追記': '',\n",
       " '最大都市': '東京都区部（23区を一つの自治体と見なす場合。<ref>東京都にある特別区の集合体は地方自治法による地方公共団体ではない。</ref>）',\n",
       " '標語': 'なし',\n",
       " '標語追記': '',\n",
       " '水面積率': '0.8%',\n",
       " '注記': '<references/>',\n",
       " '略名': '日本',\n",
       " '通貨': '円',\n",
       " '通貨コード': 'JPY',\n",
       " '通貨追記': '',\n",
       " '面積値': '377,961.73',\n",
       " '面積大きさ': '1 E11',\n",
       " '面積追記': '',\n",
       " '面積順位': '62',\n",
       " '首相等氏名': '安倍晋三',\n",
       " '首相等肩書': '内閣総理大臣',\n",
       " '首都': '東京都（事実上<ref>日本の首都を東京と定める法令は現存しない。詳しくは日本の首都を参照。</ref>）'}"
      ]
     },
     "execution_count": 80,
     "metadata": {},
     "output_type": "execute_result"
    }
   ],
   "source": [
    "from collections import defaultdict\n",
    "\n",
    "result = defaultdict(dict)\n",
    "for p in json.load(open('output/related_uk.json')):\n",
    "    for m in re.finditer('{{基礎情報(.*?)}}\\n', p['text'], re.MULTILINE | re.DOTALL):\n",
    "        for m2 in re.finditer('([^|\\n]*?)\\s*=(.*?)\\n', m.groups()[0]):\n",
    "            g = m2.groups()\n",
    "            value = re.sub(\"\\|$\", \"\", g[1].strip())\n",
    "            value = re.sub(\"'''''(.+)'''''\", \"\\g<1>\", value)\n",
    "            value = re.sub(\"'''(.+)'''\", \"\\g<1>\",  value)\n",
    "            value = re.sub(\"''(.+)''\", \"\\g<1>\",  value)\n",
    "            for m in re.finditer('\\[\\[([^[]+)\\]\\]', value):\n",
    "                value = re.sub(\n",
    "                    '\\[\\[{0}\\]\\]'.format(re.escape(m.groups()[0])),\n",
    "                    m.groups()[0].split('|')[-1],\n",
    "                    value\n",
    "                )\n",
    "            result[p['title']].update({g[0].strip(): value})\n",
    "\n",
    "result['日本']"
   ]
  },
  {
   "cell_type": "markdown",
   "metadata": {},
   "source": [
    "## 28. MediaWikiマークアップの除去\n",
    "27の処理に加えて，テンプレートの値からMediaWikiマークアップを可能な限り除去し，国の基本情報を整形せよ．"
   ]
  },
  {
   "cell_type": "code",
   "execution_count": 81,
   "metadata": {
    "collapsed": false
   },
   "outputs": [
    {
     "data": {
      "text/plain": [
       "{'GDP/人': '38,053',\n",
       " 'GDPMER追記': '',\n",
       " 'GDP値': '4兆8350億',\n",
       " 'GDP値MER': '4兆8460億',\n",
       " 'GDP値元': '名目478兆3,680億',\n",
       " 'GDP元追記': '',\n",
       " 'GDP統計年': '2014',\n",
       " 'GDP統計年MER': '2014',\n",
       " 'GDP統計年元': '2013',\n",
       " 'GDP追記': '',\n",
       " 'GDP順位': '4',\n",
       " 'GDP順位MER': '3',\n",
       " 'ISO 3166-1': 'JP / JPN',\n",
       " 'ISO 3166-1追記': '',\n",
       " 'ccTLD': '.jp',\n",
       " 'ccTLD追記': '',\n",
       " '人口値': '1億2653万',\n",
       " '人口大きさ': '1 E8',\n",
       " '人口密度値': '337',\n",
       " '人口統計年': '2012',\n",
       " '人口追記': '',\n",
       " '人口順位': '10',\n",
       " '位置画像': 'Japan (orthographic projection).svg',\n",
       " '元首等氏名': '明仁<br/>（125代目:今上天皇）',\n",
       " '元首等肩書': '天皇',\n",
       " '公式国名': '',\n",
       " '公用語': '日本語（事実上）',\n",
       " '国旗画像': 'Flag of Japan.svg',\n",
       " '国歌': '君が代File:Kimi ga Yo instrumental.ogg',\n",
       " '国歌追記': '',\n",
       " '国章リンク': '（国章（慣例上））',\n",
       " '国章画像': '十六八重表菊',\n",
       " '国際電話番号': '81',\n",
       " '国際電話番号追記': '',\n",
       " '夏時間': 'なし',\n",
       " '建国年月日': '諸説あり（日本神話による初代天皇即位の日をグレゴリオ暦に換算すると前660年2月11日）。',\n",
       " '建国形態': '建国',\n",
       " '日本語国名': '日本国',\n",
       " '時間帯': '+9',\n",
       " '時間帯追記': '',\n",
       " '最大都市': '東京都区部（23区を一つの自治体と見なす場合。）',\n",
       " '標語': 'なし',\n",
       " '標語追記': '',\n",
       " '水面積率': '0.8%',\n",
       " '注記': '',\n",
       " '略名': '日本',\n",
       " '通貨': '円',\n",
       " '通貨コード': 'JPY',\n",
       " '通貨追記': '',\n",
       " '面積値': '377,961.73',\n",
       " '面積大きさ': '1 E11',\n",
       " '面積追記': '',\n",
       " '面積順位': '62',\n",
       " '首相等氏名': '安倍晋三',\n",
       " '首相等肩書': '内閣総理大臣',\n",
       " '首都': '東京都（事実上）'}"
      ]
     },
     "execution_count": 81,
     "metadata": {},
     "output_type": "execute_result"
    }
   ],
   "source": [
    "result = defaultdict(dict)\n",
    "for p in json.load(open('output/related_uk.json')):\n",
    "    for m in re.finditer('{{基礎情報(.*?)}}\\n', p['text'], re.MULTILINE | re.DOTALL):\n",
    "        for m2 in re.finditer('([^|\\n]*?)\\s*=(.*?)\\n', m.groups()[0]):\n",
    "            g = m2.groups()\n",
    "            value = re.sub(\"\\|$\", \"\", g[1].strip())\n",
    "            value = re.sub(\"'''''(.+)'''''\", \"\\g<1>\", value)\n",
    "            value = re.sub(\"'''(.+)'''\", \"\\g<1>\",  value)\n",
    "            value = re.sub(\"''(.+)''\", \"\\g<1>\",  value)\n",
    "            # コメントアウトの除去\n",
    "            value = re.sub(\"<!--(.+)-->\", '', value)\n",
    "            # 脚注の除去\n",
    "            value = re.sub(\"<ref(.+)(\\/>|<\\/ref>)\", '', value)\n",
    "            for m in re.finditer('\\[\\[([^[]+)\\]\\]', value):\n",
    "                value = re.sub(\n",
    "                    '\\[\\[{0}\\]\\]'.format(re.escape(m.groups()[0])),\n",
    "                    m.groups()[0].split('|')[-1],\n",
    "                    value\n",
    "                )\n",
    "            # 外部リンクの除去(URLのみ残し)\n",
    "            for m in re.finditer('\\[([^[]+)\\]', value):\n",
    "                value = re.sub(\n",
    "                    '\\[{0}\\]'.format(re.escape(m.groups()[0])),\n",
    "                    m.groups()[0].split(' ')[0],\n",
    "                    value\n",
    "                )\n",
    "            # テンプレートの除去\n",
    "            for m in re.finditer('({{([^{]+)}})', value):\n",
    "                value = re.sub(\n",
    "                    re.escape(m.groups()[0]),\n",
    "                    m.groups()[1].split('|')[-1],\n",
    "                    value\n",
    "                )\n",
    "            # カテゴリの除去\n",
    "            for m in re.finditer('\\[\\[(Category|カテゴリ):([^\\[]+)\\]\\]', value):\n",
    "                value = re.sub(\n",
    "                   '\\[\\[(Category|カテゴリ):{0}\\]\\]'.format(re.escape(m.groups()[1])),\n",
    "                    m.groups()[1].split('|')[-1],\n",
    "                    value\n",
    "                )\n",
    "            result[p['title']].update({g[0].strip(): value})\n",
    "\n",
    "result['日本']"
   ]
  },
  {
   "cell_type": "markdown",
   "metadata": {},
   "source": [
    "## 29. 国旗画像のURLを取得する\n",
    "テンプレートの内容を利用し，国旗画像のURLを取得せよ．（ヒント: MediaWiki APIのimageinfoを呼び出して，ファイル参照をURLに変換すればよい）"
   ]
  },
  {
   "cell_type": "code",
   "execution_count": 82,
   "metadata": {
    "collapsed": false
   },
   "outputs": [
    {
     "data": {
      "text/plain": [
       "'https://upload.wikimedia.org/wikipedia/commons/4/47/Flag_of_Liechtenstein.svg'"
      ]
     },
     "execution_count": 82,
     "metadata": {},
     "output_type": "execute_result"
    }
   ],
   "source": [
    "import json\n",
    "import re\n",
    "import requests\n",
    "\n",
    "\n",
    "def get_country_flag_image(country_name):\n",
    "    for p in json.load(open('output/related_uk.json')):\n",
    "        if p['title'] != country_name:\n",
    "            continue\n",
    "        for m in re.finditer('{{基礎情報(.*?)}}\\n', p['text'], re.MULTILINE | re.DOTALL):\n",
    "            for m2 in re.finditer('([^|\\n]*?)\\s*=(.*?)\\n', m.groups()[0]):\n",
    "                g = m2.groups()\n",
    "                if '国旗画像' not in g[0].strip():\n",
    "                    continue\n",
    "                image = re.sub(\"\\|$\", '', g[1].strip())\n",
    "                params = {\n",
    "                    'action': 'query',\n",
    "                    'titles': 'File:' + image,\n",
    "                    'prop': 'imageinfo',\n",
    "                    'iiprop': 'url',\n",
    "                    'format': 'json',\n",
    "\n",
    "                }\n",
    "                res = requests.get('https://commons.wikimedia.org/w/api.php', params=params)\n",
    "                pages = res.json()['query']['pages']\n",
    "                for page_id, data in pages.items():\n",
    "                    return data['imageinfo'][0]['url']\n",
    "\n",
    "get_country_flag_image('リヒテンシュタイン')"
   ]
  }
 ],
 "metadata": {
  "kernelspec": {
   "display_name": "Python 3",
   "language": "python",
   "name": "python3"
  },
  "language_info": {
   "codemirror_mode": {
    "name": "ipython",
    "version": 3
   },
   "file_extension": ".py",
   "mimetype": "text/x-python",
   "name": "python",
   "nbconvert_exporter": "python",
   "pygments_lexer": "ipython3",
   "version": "3.5.0"
  }
 },
 "nbformat": 4,
 "nbformat_minor": 1
}
